{
 "cells": [
  {
   "cell_type": "code",
   "execution_count": 88,
   "metadata": {},
   "outputs": [],
   "source": [
    "import os\n",
    "import requests\n",
    "import json\n",
    "import pandas as pd\n",
    "from dotenv import load_dotenv\n",
    "import alpaca_trade_api as tradeapi\n",
    "from MCForecastTools import MCSimulation"
   ]
  },
  {
   "cell_type": "code",
   "execution_count": 89,
   "metadata": {},
   "outputs": [
    {
     "data": {
      "text/plain": [
       "True"
      ]
     },
     "execution_count": 89,
     "metadata": {},
     "output_type": "execute_result"
    }
   ],
   "source": [
    "load_dotenv()"
   ]
  },
  {
   "cell_type": "code",
   "execution_count": 90,
   "metadata": {},
   "outputs": [],
   "source": [
    "my_btc=1.2"
   ]
  },
  {
   "cell_type": "code",
   "execution_count": 91,
   "metadata": {},
   "outputs": [],
   "source": [
    "my_eth=5.3"
   ]
  },
  {
   "cell_type": "code",
   "execution_count": 92,
   "metadata": {},
   "outputs": [],
   "source": [
    "btc_url = \"https://api.alternative.me/v2/ticker/bitcoin/\"\n",
    "eth_url = \"https://api.alternative.me/v2/ticker/Ethereum/\""
   ]
  },
  {
   "cell_type": "code",
   "execution_count": 93,
   "metadata": {},
   "outputs": [],
   "source": [
    "btc_url_json = btc_url + \"?format=json\""
   ]
  },
  {
   "cell_type": "code",
   "execution_count": 94,
   "metadata": {},
   "outputs": [],
   "source": [
    "eth_url_json = eth_url + \"?format=json\""
   ]
  },
  {
   "cell_type": "code",
   "execution_count": 95,
   "metadata": {},
   "outputs": [],
   "source": [
    "btc_data = requests.get(btc_url_json).json()"
   ]
  },
  {
   "cell_type": "code",
   "execution_count": 96,
   "metadata": {},
   "outputs": [
    {
     "name": "stdout",
     "output_type": "stream",
     "text": [
      "{\n",
      "    \"data\": {\n",
      "        \"1\": {\n",
      "            \"id\": 1,\n",
      "            \"name\": \"Bitcoin\",\n",
      "            \"symbol\": \"BTC\",\n",
      "            \"website_slug\": \"bitcoin\",\n",
      "            \"rank\": 1,\n",
      "            \"circulating_supply\": 18520256,\n",
      "            \"total_supply\": 18520256,\n",
      "            \"max_supply\": 21000000,\n",
      "            \"quotes\": {\n",
      "                \"USD\": {\n",
      "                    \"price\": 11380.13,\n",
      "                    \"volume_24h\": 15570312714,\n",
      "                    \"market_cap\": 210829466034,\n",
      "                    \"percentage_change_1h\": 0.110187841349206,\n",
      "                    \"percentage_change_24h\": 0.549979671027945,\n",
      "                    \"percentage_change_7d\": 0.829222267676003,\n",
      "                    \"percent_change_1h\": 0.110187841349206,\n",
      "                    \"percent_change_24h\": 0.549979671027945,\n",
      "                    \"percent_change_7d\": 0.829222267676003\n",
      "                }\n",
      "            },\n",
      "            \"last_updated\": 1602983924\n",
      "        }\n",
      "    },\n",
      "    \"metadata\": {\n",
      "        \"timestamp\": 1602983924,\n",
      "        \"num_cryptocurrencies\": 1432,\n",
      "        \"error\": null\n",
      "    }\n",
      "}\n"
     ]
    }
   ],
   "source": [
    "print(json.dumps(btc_data, indent=4))"
   ]
  },
  {
   "cell_type": "code",
   "execution_count": 97,
   "metadata": {},
   "outputs": [],
   "source": [
    "btc_price=btc_data['data']['1']['quotes']['USD']['price']"
   ]
  },
  {
   "cell_type": "code",
   "execution_count": 98,
   "metadata": {},
   "outputs": [
    {
     "data": {
      "text/plain": [
       "11380.13"
      ]
     },
     "execution_count": 98,
     "metadata": {},
     "output_type": "execute_result"
    }
   ],
   "source": [
    "btc_price"
   ]
  },
  {
   "cell_type": "code",
   "execution_count": 99,
   "metadata": {},
   "outputs": [],
   "source": [
    "eth_data = requests.get(eth_url_json).json()"
   ]
  },
  {
   "cell_type": "code",
   "execution_count": 100,
   "metadata": {},
   "outputs": [
    {
     "name": "stdout",
     "output_type": "stream",
     "text": [
      "{\n",
      "    \"data\": {\n",
      "        \"1027\": {\n",
      "            \"id\": 1027,\n",
      "            \"name\": \"Ethereum\",\n",
      "            \"symbol\": \"ETH\",\n",
      "            \"website_slug\": \"ethereum\",\n",
      "            \"rank\": 2,\n",
      "            \"circulating_supply\": 113050116,\n",
      "            \"total_supply\": 113050116,\n",
      "            \"max_supply\": 0,\n",
      "            \"quotes\": {\n",
      "                \"USD\": {\n",
      "                    \"price\": 369.17,\n",
      "                    \"volume_24h\": 7313541288,\n",
      "                    \"market_cap\": 41759208757,\n",
      "                    \"percentage_change_1h\": 0.247370192586691,\n",
      "                    \"percentage_change_24h\": 1.05552899370143,\n",
      "                    \"percentage_change_7d\": -0.351830799167485,\n",
      "                    \"percent_change_1h\": 0.247370192586691,\n",
      "                    \"percent_change_24h\": 1.05552899370143,\n",
      "                    \"percent_change_7d\": -0.351830799167485\n",
      "                }\n",
      "            },\n",
      "            \"last_updated\": 1602983972\n",
      "        }\n",
      "    },\n",
      "    \"metadata\": {\n",
      "        \"timestamp\": 1602983972,\n",
      "        \"num_cryptocurrencies\": 1432,\n",
      "        \"error\": null\n",
      "    }\n",
      "}\n"
     ]
    }
   ],
   "source": [
    "print(json.dumps(eth_data, indent=4))"
   ]
  },
  {
   "cell_type": "code",
   "execution_count": 101,
   "metadata": {},
   "outputs": [],
   "source": [
    "eth_price=eth_data['data']['1027']['quotes']['USD']['price']"
   ]
  },
  {
   "cell_type": "code",
   "execution_count": 102,
   "metadata": {},
   "outputs": [
    {
     "data": {
      "text/plain": [
       "369.17"
      ]
     },
     "execution_count": 102,
     "metadata": {},
     "output_type": "execute_result"
    }
   ],
   "source": [
    "eth_price"
   ]
  },
  {
   "cell_type": "code",
   "execution_count": 103,
   "metadata": {},
   "outputs": [],
   "source": [
    "btc_value = my_btc * btc_price"
   ]
  },
  {
   "cell_type": "code",
   "execution_count": 104,
   "metadata": {},
   "outputs": [],
   "source": [
    "eth_value = my_eth * eth_price"
   ]
  },
  {
   "cell_type": "code",
   "execution_count": 105,
   "metadata": {},
   "outputs": [
    {
     "name": "stdout",
     "output_type": "stream",
     "text": [
      "The current value of your 1.2 BTC is $13656.16\n",
      "The current value of your 5.3 ETH is $1956.60\n"
     ]
    }
   ],
   "source": [
    "print(f\"The current value of your {my_btc} BTC is ${btc_value:0.2f}\")\n",
    "print(f\"The current value of your {my_eth} ETH is ${eth_value:0.2f}\")"
   ]
  },
  {
   "cell_type": "code",
   "execution_count": 106,
   "metadata": {},
   "outputs": [],
   "source": [
    "my_agg=200"
   ]
  },
  {
   "cell_type": "code",
   "execution_count": 107,
   "metadata": {},
   "outputs": [],
   "source": [
    "my_spy=50"
   ]
  },
  {
   "cell_type": "code",
   "execution_count": 108,
   "metadata": {},
   "outputs": [],
   "source": [
    "alpaca = tradeapi.REST(\n",
    "    'AKZ0OWYIJ8BKB4W7JWQ1',\n",
    "    'uZGF1tiwPITsQxq1kwLu4M5lqhTqxoPpyGyTwUf4',\n",
    "    api_version = \"v2\"\n",
    ")"
   ]
  },
  {
   "cell_type": "code",
   "execution_count": 109,
   "metadata": {},
   "outputs": [],
   "source": [
    "tickers = [\"AGG\", \"SPY\"]\n"
   ]
  },
  {
   "cell_type": "code",
   "execution_count": 110,
   "metadata": {},
   "outputs": [],
   "source": [
    "timeframe = \"1D\""
   ]
  },
  {
   "cell_type": "code",
   "execution_count": 111,
   "metadata": {},
   "outputs": [],
   "source": [
    "today = pd.Timestamp(\"2020-10-16\", tz=\"America/New_York\").isoformat() "
   ]
  },
  {
   "cell_type": "code",
   "execution_count": 112,
   "metadata": {},
   "outputs": [],
   "source": [
    "\n",
    "df_portfolio = alpaca.get_barset(\n",
    "    tickers,\n",
    "    timeframe,\n",
    "    start = today,\n",
    "    end = today\n",
    ").df"
   ]
  },
  {
   "cell_type": "code",
   "execution_count": 113,
   "metadata": {},
   "outputs": [
    {
     "data": {
      "text/html": [
       "<div>\n",
       "<style scoped>\n",
       "    .dataframe tbody tr th:only-of-type {\n",
       "        vertical-align: middle;\n",
       "    }\n",
       "\n",
       "    .dataframe tbody tr th {\n",
       "        vertical-align: top;\n",
       "    }\n",
       "\n",
       "    .dataframe thead tr th {\n",
       "        text-align: left;\n",
       "    }\n",
       "</style>\n",
       "<table border=\"1\" class=\"dataframe\">\n",
       "  <thead>\n",
       "    <tr>\n",
       "      <th></th>\n",
       "      <th colspan=\"5\" halign=\"left\">AGG</th>\n",
       "      <th colspan=\"5\" halign=\"left\">SPY</th>\n",
       "    </tr>\n",
       "    <tr>\n",
       "      <th></th>\n",
       "      <th>open</th>\n",
       "      <th>high</th>\n",
       "      <th>low</th>\n",
       "      <th>close</th>\n",
       "      <th>volume</th>\n",
       "      <th>open</th>\n",
       "      <th>high</th>\n",
       "      <th>low</th>\n",
       "      <th>close</th>\n",
       "      <th>volume</th>\n",
       "    </tr>\n",
       "  </thead>\n",
       "  <tbody>\n",
       "    <tr>\n",
       "      <th>2020-10-16 00:00:00-04:00</th>\n",
       "      <td>117.99</td>\n",
       "      <td>118.0778</td>\n",
       "      <td>117.88</td>\n",
       "      <td>117.88</td>\n",
       "      <td>3589312</td>\n",
       "      <td>348.96</td>\n",
       "      <td>350.75</td>\n",
       "      <td>347.1</td>\n",
       "      <td>347.25</td>\n",
       "      <td>62467863</td>\n",
       "    </tr>\n",
       "  </tbody>\n",
       "</table>\n",
       "</div>"
      ],
      "text/plain": [
       "                              AGG                                        SPY  \\\n",
       "                             open      high     low   close   volume    open   \n",
       "2020-10-16 00:00:00-04:00  117.99  118.0778  117.88  117.88  3589312  348.96   \n",
       "\n",
       "                                                            \n",
       "                             high    low   close    volume  \n",
       "2020-10-16 00:00:00-04:00  350.75  347.1  347.25  62467863  "
      ]
     },
     "execution_count": 113,
     "metadata": {},
     "output_type": "execute_result"
    }
   ],
   "source": [
    "df_portfolio"
   ]
  },
  {
   "cell_type": "code",
   "execution_count": 114,
   "metadata": {},
   "outputs": [],
   "source": [
    "df_closing_prices = pd.DataFrame()"
   ]
  },
  {
   "cell_type": "code",
   "execution_count": 115,
   "metadata": {},
   "outputs": [],
   "source": [
    "df_closing_prices[\"AGG\"] = df_portfolio[\"AGG\"][\"close\"]"
   ]
  },
  {
   "cell_type": "code",
   "execution_count": 116,
   "metadata": {},
   "outputs": [],
   "source": [
    "df_closing_prices[\"SPY\"] = df_portfolio[\"SPY\"][\"close\"]"
   ]
  },
  {
   "cell_type": "code",
   "execution_count": 117,
   "metadata": {},
   "outputs": [
    {
     "data": {
      "text/html": [
       "<div>\n",
       "<style scoped>\n",
       "    .dataframe tbody tr th:only-of-type {\n",
       "        vertical-align: middle;\n",
       "    }\n",
       "\n",
       "    .dataframe tbody tr th {\n",
       "        vertical-align: top;\n",
       "    }\n",
       "\n",
       "    .dataframe thead th {\n",
       "        text-align: right;\n",
       "    }\n",
       "</style>\n",
       "<table border=\"1\" class=\"dataframe\">\n",
       "  <thead>\n",
       "    <tr style=\"text-align: right;\">\n",
       "      <th></th>\n",
       "      <th>AGG</th>\n",
       "      <th>SPY</th>\n",
       "    </tr>\n",
       "  </thead>\n",
       "  <tbody>\n",
       "    <tr>\n",
       "      <th>2020-10-16 00:00:00-04:00</th>\n",
       "      <td>117.88</td>\n",
       "      <td>347.25</td>\n",
       "    </tr>\n",
       "  </tbody>\n",
       "</table>\n",
       "</div>"
      ],
      "text/plain": [
       "                              AGG     SPY\n",
       "2020-10-16 00:00:00-04:00  117.88  347.25"
      ]
     },
     "execution_count": 117,
     "metadata": {},
     "output_type": "execute_result"
    }
   ],
   "source": [
    "df_closing_prices"
   ]
  },
  {
   "cell_type": "code",
   "execution_count": 118,
   "metadata": {},
   "outputs": [],
   "source": [
    "\n",
    "df_closing_prices.index = df_closing_prices.index.date"
   ]
  },
  {
   "cell_type": "code",
   "execution_count": 119,
   "metadata": {},
   "outputs": [
    {
     "data": {
      "text/html": [
       "<div>\n",
       "<style scoped>\n",
       "    .dataframe tbody tr th:only-of-type {\n",
       "        vertical-align: middle;\n",
       "    }\n",
       "\n",
       "    .dataframe tbody tr th {\n",
       "        vertical-align: top;\n",
       "    }\n",
       "\n",
       "    .dataframe thead th {\n",
       "        text-align: right;\n",
       "    }\n",
       "</style>\n",
       "<table border=\"1\" class=\"dataframe\">\n",
       "  <thead>\n",
       "    <tr style=\"text-align: right;\">\n",
       "      <th></th>\n",
       "      <th>AGG</th>\n",
       "      <th>SPY</th>\n",
       "    </tr>\n",
       "  </thead>\n",
       "  <tbody>\n",
       "    <tr>\n",
       "      <th>2020-10-16</th>\n",
       "      <td>117.88</td>\n",
       "      <td>347.25</td>\n",
       "    </tr>\n",
       "  </tbody>\n",
       "</table>\n",
       "</div>"
      ],
      "text/plain": [
       "               AGG     SPY\n",
       "2020-10-16  117.88  347.25"
      ]
     },
     "execution_count": 119,
     "metadata": {},
     "output_type": "execute_result"
    }
   ],
   "source": [
    "df_closing_prices"
   ]
  },
  {
   "cell_type": "code",
   "execution_count": 120,
   "metadata": {},
   "outputs": [],
   "source": [
    "agg_price = df_closing_prices['AGG'].values[0]"
   ]
  },
  {
   "cell_type": "code",
   "execution_count": 121,
   "metadata": {},
   "outputs": [],
   "source": [
    "spy_price = df_closing_prices['SPY'].values[0]"
   ]
  },
  {
   "cell_type": "code",
   "execution_count": 122,
   "metadata": {},
   "outputs": [],
   "source": [
    "agg_value = my_agg * agg_price"
   ]
  },
  {
   "cell_type": "code",
   "execution_count": 123,
   "metadata": {},
   "outputs": [],
   "source": [
    "spy_value = my_spy * spy_price"
   ]
  },
  {
   "cell_type": "code",
   "execution_count": 124,
   "metadata": {},
   "outputs": [
    {
     "name": "stdout",
     "output_type": "stream",
     "text": [
      "Current AGG closing price: $117.88\n",
      "Current SPY closing price: $347.25\n"
     ]
    }
   ],
   "source": [
    "print(f\"Current AGG closing price: ${agg_price}\")\n",
    "print(f\"Current SPY closing price: ${spy_price}\")"
   ]
  },
  {
   "cell_type": "code",
   "execution_count": 125,
   "metadata": {},
   "outputs": [
    {
     "name": "stdout",
     "output_type": "stream",
     "text": [
      "The current value of your 200 AGG is $23576.00\n",
      "The current value of your 5.3 ETH is $1956.60\n"
     ]
    }
   ],
   "source": [
    "print(f\"The current value of your {my_agg} AGG is ${agg_value:0.2F}\")\n",
    "print(f\"The current value of your {my_eth} ETH is ${eth_value:0.2f}\")"
   ]
  },
  {
   "cell_type": "code",
   "execution_count": 126,
   "metadata": {},
   "outputs": [],
   "source": [
    "monthly_income=12000"
   ]
  },
  {
   "cell_type": "code",
   "execution_count": 127,
   "metadata": {},
   "outputs": [],
   "source": [
    "saving_amounts = {'Amount':[btc_value + eth_value, agg_value + spy_value]}"
   ]
  },
  {
   "cell_type": "code",
   "execution_count": 128,
   "metadata": {},
   "outputs": [],
   "source": [
    "df_savings = pd.DataFrame(saving_amounts, index = ['Crypto','Shares'])"
   ]
  },
  {
   "cell_type": "code",
   "execution_count": 129,
   "metadata": {},
   "outputs": [
    {
     "data": {
      "text/html": [
       "<div>\n",
       "<style scoped>\n",
       "    .dataframe tbody tr th:only-of-type {\n",
       "        vertical-align: middle;\n",
       "    }\n",
       "\n",
       "    .dataframe tbody tr th {\n",
       "        vertical-align: top;\n",
       "    }\n",
       "\n",
       "    .dataframe thead th {\n",
       "        text-align: right;\n",
       "    }\n",
       "</style>\n",
       "<table border=\"1\" class=\"dataframe\">\n",
       "  <thead>\n",
       "    <tr style=\"text-align: right;\">\n",
       "      <th></th>\n",
       "      <th>Amount</th>\n",
       "    </tr>\n",
       "  </thead>\n",
       "  <tbody>\n",
       "    <tr>\n",
       "      <th>Crypto</th>\n",
       "      <td>15612.757</td>\n",
       "    </tr>\n",
       "    <tr>\n",
       "      <th>Shares</th>\n",
       "      <td>40938.500</td>\n",
       "    </tr>\n",
       "  </tbody>\n",
       "</table>\n",
       "</div>"
      ],
      "text/plain": [
       "           Amount\n",
       "Crypto  15612.757\n",
       "Shares  40938.500"
      ]
     },
     "metadata": {},
     "output_type": "display_data"
    }
   ],
   "source": [
    "display(df_savings)"
   ]
  },
  {
   "cell_type": "code",
   "execution_count": 130,
   "metadata": {},
   "outputs": [],
   "source": [
    "from matplotlib import pyplot as plt \n"
   ]
  },
  {
   "cell_type": "code",
   "execution_count": 131,
   "metadata": {},
   "outputs": [
    {
     "name": "stderr",
     "output_type": "stream",
     "text": [
      "<ipython-input-131-0f578ce08d5d>:1: MatplotlibDeprecationWarning: Non-1D inputs to pie() are currently squeeze()d, but this behavior is deprecated since 3.1 and will be removed in 3.3; pass a 1D array instead.\n",
      "  plt.pie(df_savings, labels =['Crypto', 'Shares'])\n"
     ]
    },
    {
     "data": {
      "text/plain": [
       "([<matplotlib.patches.Wedge at 0x183208d7730>,\n",
       "  <matplotlib.patches.Wedge at 0x1831db01040>],\n",
       " [Text(0.7115467907825913, 0.8388689793567261, 'Crypto'),\n",
       "  Text(-0.7115467907825914, -0.8388689793567261, 'Shares')])"
      ]
     },
     "execution_count": 131,
     "metadata": {},
     "output_type": "execute_result"
    },
    {
     "data": {
      "image/png": "[encoded data removed]",
      "text/plain": [
       "<Figure size 432x288 with 1 Axes>"
      ]
     },
     "metadata": {},
     "output_type": "display_data"
    }
   ],
   "source": [
    "plt.pie(df_savings, labels =['Crypto', 'Shares'])\n"
   ]
  },
  {
   "cell_type": "code",
   "execution_count": 132,
   "metadata": {},
   "outputs": [],
   "source": [
    "emergency_fund = monthly_income * 3"
   ]
  },
  {
   "cell_type": "code",
   "execution_count": 133,
   "metadata": {},
   "outputs": [
    {
     "data": {
      "text/plain": [
       "36000"
      ]
     },
     "execution_count": 133,
     "metadata": {},
     "output_type": "execute_result"
    }
   ],
   "source": [
    "emergency_fund"
   ]
  },
  {
   "cell_type": "code",
   "execution_count": 134,
   "metadata": {},
   "outputs": [],
   "source": [
    "savings_amount = df_savings['Amount'].sum()"
   ]
  },
  {
   "cell_type": "code",
   "execution_count": 135,
   "metadata": {},
   "outputs": [
    {
     "data": {
      "text/plain": [
       "56551.257"
      ]
     },
     "execution_count": 135,
     "metadata": {},
     "output_type": "execute_result"
    }
   ],
   "source": [
    "savings_amount"
   ]
  },
  {
   "cell_type": "code",
   "execution_count": 136,
   "metadata": {},
   "outputs": [],
   "source": [
    "savings_need = emergency_fund - savings_amount"
   ]
  },
  {
   "cell_type": "code",
   "execution_count": 137,
   "metadata": {},
   "outputs": [
    {
     "name": "stdout",
     "output_type": "stream",
     "text": [
      "Congratulations! You have enough money in your emergency fund\n"
     ]
    }
   ],
   "source": [
    "if savings_amount > emergency_fund:\n",
    "    print(\"Congratulations! You have enough money in your emergency fund\")\n",
    "elif savings_amount == emergency_fund:\n",
    "    print(\"Congratulations! You are reaching in your emergency fund\")\n",
    "else:\n",
    "    print(f\"You need {savings_need} to reach goal\")\n"
   ]
  },
  {
   "cell_type": "code",
   "execution_count": 138,
   "metadata": {},
   "outputs": [],
   "source": [
    "start_date = pd.Timestamp(\"2015-01-01\", tz=\"America/New_York\").isoformat()\n",
    "end_date = pd.Timestamp(\"2020-10-16\", tz=\"America/New_York\").isoformat()"
   ]
  },
  {
   "cell_type": "code",
   "execution_count": 139,
   "metadata": {},
   "outputs": [],
   "source": [
    "portfolio = alpaca.get_barset(\n",
    "    tickers,\n",
    "    timeframe,\n",
    "    start=start_date,\n",
    "    end=end_date\n",
    ").df"
   ]
  },
  {
   "cell_type": "code",
   "execution_count": 140,
   "metadata": {},
   "outputs": [
    {
     "data": {
      "text/html": [
       "<div>\n",
       "<style scoped>\n",
       "    .dataframe tbody tr th:only-of-type {\n",
       "        vertical-align: middle;\n",
       "    }\n",
       "\n",
       "    .dataframe tbody tr th {\n",
       "        vertical-align: top;\n",
       "    }\n",
       "\n",
       "    .dataframe thead tr th {\n",
       "        text-align: left;\n",
       "    }\n",
       "</style>\n",
       "<table border=\"1\" class=\"dataframe\">\n",
       "  <thead>\n",
       "    <tr>\n",
       "      <th></th>\n",
       "      <th colspan=\"5\" halign=\"left\">AGG</th>\n",
       "      <th colspan=\"5\" halign=\"left\">SPY</th>\n",
       "    </tr>\n",
       "    <tr>\n",
       "      <th></th>\n",
       "      <th>open</th>\n",
       "      <th>high</th>\n",
       "      <th>low</th>\n",
       "      <th>close</th>\n",
       "      <th>volume</th>\n",
       "      <th>open</th>\n",
       "      <th>high</th>\n",
       "      <th>low</th>\n",
       "      <th>close</th>\n",
       "      <th>volume</th>\n",
       "    </tr>\n",
       "  </thead>\n",
       "  <tbody>\n",
       "    <tr>\n",
       "      <th>2015-01-02 00:00:00-05:00</th>\n",
       "      <td>110.18</td>\n",
       "      <td>110.50</td>\n",
       "      <td>110.18</td>\n",
       "      <td>110.45</td>\n",
       "      <td>1766432.0</td>\n",
       "      <td>206.38</td>\n",
       "      <td>206.88</td>\n",
       "      <td>204.180</td>\n",
       "      <td>205.41</td>\n",
       "      <td>94506045</td>\n",
       "    </tr>\n",
       "    <tr>\n",
       "      <th>2015-01-05 00:00:00-05:00</th>\n",
       "      <td>110.56</td>\n",
       "      <td>110.76</td>\n",
       "      <td>110.48</td>\n",
       "      <td>110.67</td>\n",
       "      <td>3220575.0</td>\n",
       "      <td>204.17</td>\n",
       "      <td>204.37</td>\n",
       "      <td>201.350</td>\n",
       "      <td>201.80</td>\n",
       "      <td>133100354</td>\n",
       "    </tr>\n",
       "    <tr>\n",
       "      <th>2015-01-06 00:00:00-05:00</th>\n",
       "      <td>110.96</td>\n",
       "      <td>111.35</td>\n",
       "      <td>110.89</td>\n",
       "      <td>110.97</td>\n",
       "      <td>3089810.0</td>\n",
       "      <td>202.09</td>\n",
       "      <td>202.72</td>\n",
       "      <td>198.855</td>\n",
       "      <td>199.82</td>\n",
       "      <td>166955423</td>\n",
       "    </tr>\n",
       "    <tr>\n",
       "      <th>2015-01-07 00:00:00-05:00</th>\n",
       "      <td>111.00</td>\n",
       "      <td>111.04</td>\n",
       "      <td>110.74</td>\n",
       "      <td>110.92</td>\n",
       "      <td>3616860.0</td>\n",
       "      <td>201.42</td>\n",
       "      <td>202.72</td>\n",
       "      <td>200.880</td>\n",
       "      <td>202.34</td>\n",
       "      <td>103285826</td>\n",
       "    </tr>\n",
       "    <tr>\n",
       "      <th>2015-01-08 00:00:00-05:00</th>\n",
       "      <td>110.84</td>\n",
       "      <td>110.84</td>\n",
       "      <td>110.63</td>\n",
       "      <td>110.74</td>\n",
       "      <td>1873126.0</td>\n",
       "      <td>204.00</td>\n",
       "      <td>206.16</td>\n",
       "      <td>203.990</td>\n",
       "      <td>205.92</td>\n",
       "      <td>112316394</td>\n",
       "    </tr>\n",
       "  </tbody>\n",
       "</table>\n",
       "</div>"
      ],
      "text/plain": [
       "                              AGG                                        SPY  \\\n",
       "                             open    high     low   close     volume    open   \n",
       "2015-01-02 00:00:00-05:00  110.18  110.50  110.18  110.45  1766432.0  206.38   \n",
       "2015-01-05 00:00:00-05:00  110.56  110.76  110.48  110.67  3220575.0  204.17   \n",
       "2015-01-06 00:00:00-05:00  110.96  111.35  110.89  110.97  3089810.0  202.09   \n",
       "2015-01-07 00:00:00-05:00  111.00  111.04  110.74  110.92  3616860.0  201.42   \n",
       "2015-01-08 00:00:00-05:00  110.84  110.84  110.63  110.74  1873126.0  204.00   \n",
       "\n",
       "                                                               \n",
       "                             high      low   close     volume  \n",
       "2015-01-02 00:00:00-05:00  206.88  204.180  205.41   94506045  \n",
       "2015-01-05 00:00:00-05:00  204.37  201.350  201.80  133100354  \n",
       "2015-01-06 00:00:00-05:00  202.72  198.855  199.82  166955423  \n",
       "2015-01-07 00:00:00-05:00  202.72  200.880  202.34  103285826  \n",
       "2015-01-08 00:00:00-05:00  206.16  203.990  205.92  112316394  "
      ]
     },
     "execution_count": 140,
     "metadata": {},
     "output_type": "execute_result"
    }
   ],
   "source": [
    "portfolio.head()"
   ]
  },
  {
   "cell_type": "code",
   "execution_count": 141,
   "metadata": {},
   "outputs": [
    {
     "data": {
      "text/html": [
       "<div>\n",
       "<style scoped>\n",
       "    .dataframe tbody tr th:only-of-type {\n",
       "        vertical-align: middle;\n",
       "    }\n",
       "\n",
       "    .dataframe tbody tr th {\n",
       "        vertical-align: top;\n",
       "    }\n",
       "\n",
       "    .dataframe thead tr th {\n",
       "        text-align: left;\n",
       "    }\n",
       "</style>\n",
       "<table border=\"1\" class=\"dataframe\">\n",
       "  <thead>\n",
       "    <tr>\n",
       "      <th></th>\n",
       "      <th colspan=\"6\" halign=\"left\">AGG</th>\n",
       "      <th colspan=\"6\" halign=\"left\">SPY</th>\n",
       "    </tr>\n",
       "    <tr>\n",
       "      <th></th>\n",
       "      <th>open</th>\n",
       "      <th>high</th>\n",
       "      <th>low</th>\n",
       "      <th>close</th>\n",
       "      <th>volume</th>\n",
       "      <th>daily_return</th>\n",
       "      <th>open</th>\n",
       "      <th>high</th>\n",
       "      <th>low</th>\n",
       "      <th>close</th>\n",
       "      <th>volume</th>\n",
       "      <th>daily_return</th>\n",
       "    </tr>\n",
       "  </thead>\n",
       "  <tbody>\n",
       "    <tr>\n",
       "      <th>2015-01-02 00:00:00-05:00</th>\n",
       "      <td>110.18</td>\n",
       "      <td>110.50</td>\n",
       "      <td>110.18</td>\n",
       "      <td>110.45</td>\n",
       "      <td>1766432.0</td>\n",
       "      <td>NaN</td>\n",
       "      <td>206.38</td>\n",
       "      <td>206.88</td>\n",
       "      <td>204.180</td>\n",
       "      <td>205.41</td>\n",
       "      <td>94506045</td>\n",
       "      <td>NaN</td>\n",
       "    </tr>\n",
       "    <tr>\n",
       "      <th>2015-01-05 00:00:00-05:00</th>\n",
       "      <td>110.56</td>\n",
       "      <td>110.76</td>\n",
       "      <td>110.48</td>\n",
       "      <td>110.67</td>\n",
       "      <td>3220575.0</td>\n",
       "      <td>0.001992</td>\n",
       "      <td>204.17</td>\n",
       "      <td>204.37</td>\n",
       "      <td>201.350</td>\n",
       "      <td>201.80</td>\n",
       "      <td>133100354</td>\n",
       "      <td>-0.017575</td>\n",
       "    </tr>\n",
       "    <tr>\n",
       "      <th>2015-01-06 00:00:00-05:00</th>\n",
       "      <td>110.96</td>\n",
       "      <td>111.35</td>\n",
       "      <td>110.89</td>\n",
       "      <td>110.97</td>\n",
       "      <td>3089810.0</td>\n",
       "      <td>0.002711</td>\n",
       "      <td>202.09</td>\n",
       "      <td>202.72</td>\n",
       "      <td>198.855</td>\n",
       "      <td>199.82</td>\n",
       "      <td>166955423</td>\n",
       "      <td>-0.009812</td>\n",
       "    </tr>\n",
       "    <tr>\n",
       "      <th>2015-01-07 00:00:00-05:00</th>\n",
       "      <td>111.00</td>\n",
       "      <td>111.04</td>\n",
       "      <td>110.74</td>\n",
       "      <td>110.92</td>\n",
       "      <td>3616860.0</td>\n",
       "      <td>-0.000451</td>\n",
       "      <td>201.42</td>\n",
       "      <td>202.72</td>\n",
       "      <td>200.880</td>\n",
       "      <td>202.34</td>\n",
       "      <td>103285826</td>\n",
       "      <td>0.012611</td>\n",
       "    </tr>\n",
       "    <tr>\n",
       "      <th>2015-01-08 00:00:00-05:00</th>\n",
       "      <td>110.84</td>\n",
       "      <td>110.84</td>\n",
       "      <td>110.63</td>\n",
       "      <td>110.74</td>\n",
       "      <td>1873126.0</td>\n",
       "      <td>-0.001623</td>\n",
       "      <td>204.00</td>\n",
       "      <td>206.16</td>\n",
       "      <td>203.990</td>\n",
       "      <td>205.92</td>\n",
       "      <td>112316394</td>\n",
       "      <td>0.017693</td>\n",
       "    </tr>\n",
       "  </tbody>\n",
       "</table>\n",
       "</div>"
      ],
      "text/plain": [
       "                              AGG                                     \\\n",
       "                             open    high     low   close     volume   \n",
       "2015-01-02 00:00:00-05:00  110.18  110.50  110.18  110.45  1766432.0   \n",
       "2015-01-05 00:00:00-05:00  110.56  110.76  110.48  110.67  3220575.0   \n",
       "2015-01-06 00:00:00-05:00  110.96  111.35  110.89  110.97  3089810.0   \n",
       "2015-01-07 00:00:00-05:00  111.00  111.04  110.74  110.92  3616860.0   \n",
       "2015-01-08 00:00:00-05:00  110.84  110.84  110.63  110.74  1873126.0   \n",
       "\n",
       "                                           SPY                           \\\n",
       "                          daily_return    open    high      low   close   \n",
       "2015-01-02 00:00:00-05:00          NaN  206.38  206.88  204.180  205.41   \n",
       "2015-01-05 00:00:00-05:00     0.001992  204.17  204.37  201.350  201.80   \n",
       "2015-01-06 00:00:00-05:00     0.002711  202.09  202.72  198.855  199.82   \n",
       "2015-01-07 00:00:00-05:00    -0.000451  201.42  202.72  200.880  202.34   \n",
       "2015-01-08 00:00:00-05:00    -0.001623  204.00  206.16  203.990  205.92   \n",
       "\n",
       "                                                   \n",
       "                              volume daily_return  \n",
       "2015-01-02 00:00:00-05:00   94506045          NaN  \n",
       "2015-01-05 00:00:00-05:00  133100354    -0.017575  \n",
       "2015-01-06 00:00:00-05:00  166955423    -0.009812  \n",
       "2015-01-07 00:00:00-05:00  103285826     0.012611  \n",
       "2015-01-08 00:00:00-05:00  112316394     0.017693  "
      ]
     },
     "execution_count": 141,
     "metadata": {},
     "output_type": "execute_result"
    }
   ],
   "source": [
    "MC_even_dist = MCSimulation(\n",
    "    portfolio_data = portfolio,\n",
    "    weights = [.4,.6],\n",
    "    num_simulation = 500,\n",
    "    num_trading_days = 252*30\n",
    ")\n",
    "\n",
    "MC_even_dist.portfolio_data.head()"
   ]
  },
  {
   "cell_type": "code",
   "execution_count": 142,
   "metadata": {},
   "outputs": [
    {
     "name": "stdout",
     "output_type": "stream",
     "text": [
      "Running Monte Carlo simulation number 0.\n",
      "Running Monte Carlo simulation number 10.\n",
      "Running Monte Carlo simulation number 20.\n",
      "Running Monte Carlo simulation number 30.\n",
      "Running Monte Carlo simulation number 40.\n",
      "Running Monte Carlo simulation number 50.\n",
      "Running Monte Carlo simulation number 60.\n",
      "Running Monte Carlo simulation number 70.\n",
      "Running Monte Carlo simulation number 80.\n",
      "Running Monte Carlo simulation number 90.\n",
      "Running Monte Carlo simulation number 100.\n",
      "Running Monte Carlo simulation number 110.\n",
      "Running Monte Carlo simulation number 120.\n",
      "Running Monte Carlo simulation number 130.\n",
      "Running Monte Carlo simulation number 140.\n",
      "Running Monte Carlo simulation number 150.\n",
      "Running Monte Carlo simulation number 160.\n",
      "Running Monte Carlo simulation number 170.\n",
      "Running Monte Carlo simulation number 180.\n",
      "Running Monte Carlo simulation number 190.\n",
      "Running Monte Carlo simulation number 200.\n",
      "Running Monte Carlo simulation number 210.\n",
      "Running Monte Carlo simulation number 220.\n",
      "Running Monte Carlo simulation number 230.\n",
      "Running Monte Carlo simulation number 240.\n",
      "Running Monte Carlo simulation number 250.\n",
      "Running Monte Carlo simulation number 260.\n",
      "Running Monte Carlo simulation number 270.\n",
      "Running Monte Carlo simulation number 280.\n",
      "Running Monte Carlo simulation number 290.\n",
      "Running Monte Carlo simulation number 300.\n",
      "Running Monte Carlo simulation number 310.\n",
      "Running Monte Carlo simulation number 320.\n",
      "Running Monte Carlo simulation number 330.\n",
      "Running Monte Carlo simulation number 340.\n",
      "Running Monte Carlo simulation number 350.\n",
      "Running Monte Carlo simulation number 360.\n",
      "Running Monte Carlo simulation number 370.\n",
      "Running Monte Carlo simulation number 380.\n",
      "Running Monte Carlo simulation number 390.\n",
      "Running Monte Carlo simulation number 400.\n",
      "Running Monte Carlo simulation number 410.\n",
      "Running Monte Carlo simulation number 420.\n",
      "Running Monte Carlo simulation number 430.\n",
      "Running Monte Carlo simulation number 440.\n",
      "Running Monte Carlo simulation number 450.\n",
      "Running Monte Carlo simulation number 460.\n",
      "Running Monte Carlo simulation number 470.\n",
      "Running Monte Carlo simulation number 480.\n",
      "Running Monte Carlo simulation number 490.\n"
     ]
    },
    {
     "data": {
      "text/html": [
       "<div>\n",
       "<style scoped>\n",
       "    .dataframe tbody tr th:only-of-type {\n",
       "        vertical-align: middle;\n",
       "    }\n",
       "\n",
       "    .dataframe tbody tr th {\n",
       "        vertical-align: top;\n",
       "    }\n",
       "\n",
       "    .dataframe thead th {\n",
       "        text-align: right;\n",
       "    }\n",
       "</style>\n",
       "<table border=\"1\" class=\"dataframe\">\n",
       "  <thead>\n",
       "    <tr style=\"text-align: right;\">\n",
       "      <th></th>\n",
       "      <th>0</th>\n",
       "      <th>1</th>\n",
       "      <th>2</th>\n",
       "      <th>3</th>\n",
       "      <th>4</th>\n",
       "      <th>5</th>\n",
       "      <th>6</th>\n",
       "      <th>7</th>\n",
       "      <th>8</th>\n",
       "      <th>9</th>\n",
       "      <th>...</th>\n",
       "      <th>490</th>\n",
       "      <th>491</th>\n",
       "      <th>492</th>\n",
       "      <th>493</th>\n",
       "      <th>494</th>\n",
       "      <th>495</th>\n",
       "      <th>496</th>\n",
       "      <th>497</th>\n",
       "      <th>498</th>\n",
       "      <th>499</th>\n",
       "    </tr>\n",
       "  </thead>\n",
       "  <tbody>\n",
       "    <tr>\n",
       "      <th>0</th>\n",
       "      <td>1.000000</td>\n",
       "      <td>1.000000</td>\n",
       "      <td>1.000000</td>\n",
       "      <td>1.000000</td>\n",
       "      <td>1.000000</td>\n",
       "      <td>1.000000</td>\n",
       "      <td>1.000000</td>\n",
       "      <td>1.000000</td>\n",
       "      <td>1.000000</td>\n",
       "      <td>1.000000</td>\n",
       "      <td>...</td>\n",
       "      <td>1.000000</td>\n",
       "      <td>1.000000</td>\n",
       "      <td>1.000000</td>\n",
       "      <td>1.000000</td>\n",
       "      <td>1.000000</td>\n",
       "      <td>1.000000</td>\n",
       "      <td>1.000000</td>\n",
       "      <td>1.000000</td>\n",
       "      <td>1.000000</td>\n",
       "      <td>1.000000</td>\n",
       "    </tr>\n",
       "    <tr>\n",
       "      <th>1</th>\n",
       "      <td>1.003012</td>\n",
       "      <td>0.985008</td>\n",
       "      <td>1.004270</td>\n",
       "      <td>0.994520</td>\n",
       "      <td>0.994888</td>\n",
       "      <td>0.999679</td>\n",
       "      <td>1.002038</td>\n",
       "      <td>1.004026</td>\n",
       "      <td>1.007611</td>\n",
       "      <td>1.002767</td>\n",
       "      <td>...</td>\n",
       "      <td>1.008029</td>\n",
       "      <td>0.997032</td>\n",
       "      <td>0.993738</td>\n",
       "      <td>0.992251</td>\n",
       "      <td>0.993876</td>\n",
       "      <td>0.997288</td>\n",
       "      <td>0.994398</td>\n",
       "      <td>1.005875</td>\n",
       "      <td>1.000805</td>\n",
       "      <td>1.007024</td>\n",
       "    </tr>\n",
       "    <tr>\n",
       "      <th>2</th>\n",
       "      <td>1.010028</td>\n",
       "      <td>0.987325</td>\n",
       "      <td>1.003599</td>\n",
       "      <td>0.991821</td>\n",
       "      <td>0.989941</td>\n",
       "      <td>1.007486</td>\n",
       "      <td>0.997979</td>\n",
       "      <td>1.000021</td>\n",
       "      <td>1.005860</td>\n",
       "      <td>0.998193</td>\n",
       "      <td>...</td>\n",
       "      <td>1.008614</td>\n",
       "      <td>0.988595</td>\n",
       "      <td>1.018514</td>\n",
       "      <td>1.008424</td>\n",
       "      <td>0.999413</td>\n",
       "      <td>1.011035</td>\n",
       "      <td>0.985545</td>\n",
       "      <td>0.995705</td>\n",
       "      <td>1.002341</td>\n",
       "      <td>1.002980</td>\n",
       "    </tr>\n",
       "    <tr>\n",
       "      <th>3</th>\n",
       "      <td>1.006702</td>\n",
       "      <td>0.997175</td>\n",
       "      <td>1.002005</td>\n",
       "      <td>0.989670</td>\n",
       "      <td>0.997836</td>\n",
       "      <td>1.002175</td>\n",
       "      <td>1.007922</td>\n",
       "      <td>0.998608</td>\n",
       "      <td>1.011714</td>\n",
       "      <td>0.994504</td>\n",
       "      <td>...</td>\n",
       "      <td>0.996547</td>\n",
       "      <td>0.997201</td>\n",
       "      <td>1.011755</td>\n",
       "      <td>1.012509</td>\n",
       "      <td>1.003729</td>\n",
       "      <td>1.006148</td>\n",
       "      <td>0.976418</td>\n",
       "      <td>0.994299</td>\n",
       "      <td>1.008499</td>\n",
       "      <td>1.001923</td>\n",
       "    </tr>\n",
       "    <tr>\n",
       "      <th>4</th>\n",
       "      <td>1.015596</td>\n",
       "      <td>0.998655</td>\n",
       "      <td>1.013859</td>\n",
       "      <td>0.991333</td>\n",
       "      <td>0.997558</td>\n",
       "      <td>1.004124</td>\n",
       "      <td>1.003193</td>\n",
       "      <td>0.995169</td>\n",
       "      <td>1.016957</td>\n",
       "      <td>1.000920</td>\n",
       "      <td>...</td>\n",
       "      <td>0.986387</td>\n",
       "      <td>1.004399</td>\n",
       "      <td>1.015887</td>\n",
       "      <td>1.004841</td>\n",
       "      <td>0.997794</td>\n",
       "      <td>1.000487</td>\n",
       "      <td>0.968122</td>\n",
       "      <td>0.995380</td>\n",
       "      <td>1.006099</td>\n",
       "      <td>1.000013</td>\n",
       "    </tr>\n",
       "    <tr>\n",
       "      <th>...</th>\n",
       "      <td>...</td>\n",
       "      <td>...</td>\n",
       "      <td>...</td>\n",
       "      <td>...</td>\n",
       "      <td>...</td>\n",
       "      <td>...</td>\n",
       "      <td>...</td>\n",
       "      <td>...</td>\n",
       "      <td>...</td>\n",
       "      <td>...</td>\n",
       "      <td>...</td>\n",
       "      <td>...</td>\n",
       "      <td>...</td>\n",
       "      <td>...</td>\n",
       "      <td>...</td>\n",
       "      <td>...</td>\n",
       "      <td>...</td>\n",
       "      <td>...</td>\n",
       "      <td>...</td>\n",
       "      <td>...</td>\n",
       "      <td>...</td>\n",
       "    </tr>\n",
       "    <tr>\n",
       "      <th>7556</th>\n",
       "      <td>6.116707</td>\n",
       "      <td>1.959893</td>\n",
       "      <td>14.592057</td>\n",
       "      <td>3.536828</td>\n",
       "      <td>5.491102</td>\n",
       "      <td>5.619429</td>\n",
       "      <td>3.512642</td>\n",
       "      <td>5.698946</td>\n",
       "      <td>5.219796</td>\n",
       "      <td>7.806104</td>\n",
       "      <td>...</td>\n",
       "      <td>8.891243</td>\n",
       "      <td>4.419034</td>\n",
       "      <td>9.376069</td>\n",
       "      <td>1.730286</td>\n",
       "      <td>7.725410</td>\n",
       "      <td>8.301788</td>\n",
       "      <td>8.544670</td>\n",
       "      <td>11.169327</td>\n",
       "      <td>2.720083</td>\n",
       "      <td>6.225621</td>\n",
       "    </tr>\n",
       "    <tr>\n",
       "      <th>7557</th>\n",
       "      <td>6.146916</td>\n",
       "      <td>1.974359</td>\n",
       "      <td>14.640888</td>\n",
       "      <td>3.513407</td>\n",
       "      <td>5.469661</td>\n",
       "      <td>5.694669</td>\n",
       "      <td>3.532734</td>\n",
       "      <td>5.720591</td>\n",
       "      <td>5.257354</td>\n",
       "      <td>7.785469</td>\n",
       "      <td>...</td>\n",
       "      <td>8.816832</td>\n",
       "      <td>4.399503</td>\n",
       "      <td>9.279565</td>\n",
       "      <td>1.734817</td>\n",
       "      <td>7.681808</td>\n",
       "      <td>8.339220</td>\n",
       "      <td>8.596615</td>\n",
       "      <td>11.239684</td>\n",
       "      <td>2.708366</td>\n",
       "      <td>6.258863</td>\n",
       "    </tr>\n",
       "    <tr>\n",
       "      <th>7558</th>\n",
       "      <td>6.072913</td>\n",
       "      <td>1.975426</td>\n",
       "      <td>14.485688</td>\n",
       "      <td>3.528916</td>\n",
       "      <td>5.530272</td>\n",
       "      <td>5.636719</td>\n",
       "      <td>3.532670</td>\n",
       "      <td>5.664677</td>\n",
       "      <td>5.237209</td>\n",
       "      <td>7.766590</td>\n",
       "      <td>...</td>\n",
       "      <td>8.918342</td>\n",
       "      <td>4.421370</td>\n",
       "      <td>9.300200</td>\n",
       "      <td>1.737507</td>\n",
       "      <td>7.702934</td>\n",
       "      <td>8.434020</td>\n",
       "      <td>8.613324</td>\n",
       "      <td>11.345715</td>\n",
       "      <td>2.724109</td>\n",
       "      <td>6.196552</td>\n",
       "    </tr>\n",
       "    <tr>\n",
       "      <th>7559</th>\n",
       "      <td>6.025324</td>\n",
       "      <td>1.973670</td>\n",
       "      <td>14.454894</td>\n",
       "      <td>3.548054</td>\n",
       "      <td>5.612254</td>\n",
       "      <td>5.655960</td>\n",
       "      <td>3.552203</td>\n",
       "      <td>5.673768</td>\n",
       "      <td>5.244173</td>\n",
       "      <td>7.698364</td>\n",
       "      <td>...</td>\n",
       "      <td>9.004948</td>\n",
       "      <td>4.409601</td>\n",
       "      <td>9.411632</td>\n",
       "      <td>1.736501</td>\n",
       "      <td>7.670362</td>\n",
       "      <td>8.408240</td>\n",
       "      <td>8.593524</td>\n",
       "      <td>11.511348</td>\n",
       "      <td>2.747139</td>\n",
       "      <td>6.226522</td>\n",
       "    </tr>\n",
       "    <tr>\n",
       "      <th>7560</th>\n",
       "      <td>6.098538</td>\n",
       "      <td>1.969452</td>\n",
       "      <td>14.408917</td>\n",
       "      <td>3.560650</td>\n",
       "      <td>5.539672</td>\n",
       "      <td>5.700215</td>\n",
       "      <td>3.593225</td>\n",
       "      <td>5.682310</td>\n",
       "      <td>5.281227</td>\n",
       "      <td>7.656231</td>\n",
       "      <td>...</td>\n",
       "      <td>8.958069</td>\n",
       "      <td>4.412967</td>\n",
       "      <td>9.473286</td>\n",
       "      <td>1.731465</td>\n",
       "      <td>7.637741</td>\n",
       "      <td>8.385219</td>\n",
       "      <td>8.623828</td>\n",
       "      <td>11.500446</td>\n",
       "      <td>2.732453</td>\n",
       "      <td>6.186744</td>\n",
       "    </tr>\n",
       "  </tbody>\n",
       "</table>\n",
       "<p>7561 rows × 500 columns</p>\n",
       "</div>"
      ],
      "text/plain": [
       "           0         1          2         3         4         5         6    \\\n",
       "0     1.000000  1.000000   1.000000  1.000000  1.000000  1.000000  1.000000   \n",
       "1     1.003012  0.985008   1.004270  0.994520  0.994888  0.999679  1.002038   \n",
       "2     1.010028  0.987325   1.003599  0.991821  0.989941  1.007486  0.997979   \n",
       "3     1.006702  0.997175   1.002005  0.989670  0.997836  1.002175  1.007922   \n",
       "4     1.015596  0.998655   1.013859  0.991333  0.997558  1.004124  1.003193   \n",
       "...        ...       ...        ...       ...       ...       ...       ...   \n",
       "7556  6.116707  1.959893  14.592057  3.536828  5.491102  5.619429  3.512642   \n",
       "7557  6.146916  1.974359  14.640888  3.513407  5.469661  5.694669  3.532734   \n",
       "7558  6.072913  1.975426  14.485688  3.528916  5.530272  5.636719  3.532670   \n",
       "7559  6.025324  1.973670  14.454894  3.548054  5.612254  5.655960  3.552203   \n",
       "7560  6.098538  1.969452  14.408917  3.560650  5.539672  5.700215  3.593225   \n",
       "\n",
       "           7         8         9    ...       490       491       492  \\\n",
       "0     1.000000  1.000000  1.000000  ...  1.000000  1.000000  1.000000   \n",
       "1     1.004026  1.007611  1.002767  ...  1.008029  0.997032  0.993738   \n",
       "2     1.000021  1.005860  0.998193  ...  1.008614  0.988595  1.018514   \n",
       "3     0.998608  1.011714  0.994504  ...  0.996547  0.997201  1.011755   \n",
       "4     0.995169  1.016957  1.000920  ...  0.986387  1.004399  1.015887   \n",
       "...        ...       ...       ...  ...       ...       ...       ...   \n",
       "7556  5.698946  5.219796  7.806104  ...  8.891243  4.419034  9.376069   \n",
       "7557  5.720591  5.257354  7.785469  ...  8.816832  4.399503  9.279565   \n",
       "7558  5.664677  5.237209  7.766590  ...  8.918342  4.421370  9.300200   \n",
       "7559  5.673768  5.244173  7.698364  ...  9.004948  4.409601  9.411632   \n",
       "7560  5.682310  5.281227  7.656231  ...  8.958069  4.412967  9.473286   \n",
       "\n",
       "           493       494       495       496        497       498       499  \n",
       "0     1.000000  1.000000  1.000000  1.000000   1.000000  1.000000  1.000000  \n",
       "1     0.992251  0.993876  0.997288  0.994398   1.005875  1.000805  1.007024  \n",
       "2     1.008424  0.999413  1.011035  0.985545   0.995705  1.002341  1.002980  \n",
       "3     1.012509  1.003729  1.006148  0.976418   0.994299  1.008499  1.001923  \n",
       "4     1.004841  0.997794  1.000487  0.968122   0.995380  1.006099  1.000013  \n",
       "...        ...       ...       ...       ...        ...       ...       ...  \n",
       "7556  1.730286  7.725410  8.301788  8.544670  11.169327  2.720083  6.225621  \n",
       "7557  1.734817  7.681808  8.339220  8.596615  11.239684  2.708366  6.258863  \n",
       "7558  1.737507  7.702934  8.434020  8.613324  11.345715  2.724109  6.196552  \n",
       "7559  1.736501  7.670362  8.408240  8.593524  11.511348  2.747139  6.226522  \n",
       "7560  1.731465  7.637741  8.385219  8.623828  11.500446  2.732453  6.186744  \n",
       "\n",
       "[7561 rows x 500 columns]"
      ]
     },
     "execution_count": 142,
     "metadata": {},
     "output_type": "execute_result"
    }
   ],
   "source": [
    "MC_even_dist.calc_cumulative_return() "
   ]
  },
  {
   "cell_type": "code",
   "execution_count": 143,
   "metadata": {},
   "outputs": [
    {
     "data": {
      "image/png": "[encoded data removed]",
      "text/plain": [
       "<Figure size 432x288 with 1 Axes>"
      ]
     },
     "metadata": {
      "needs_background": "light"
     },
     "output_type": "display_data"
    }
   ],
   "source": [
    "line_plot = MC_even_dist.plot_simulation()"
   ]
  },
  {
   "cell_type": "code",
   "execution_count": 144,
   "metadata": {},
   "outputs": [
    {
     "data": {
      "image/png": "[encoded data removed]",
      "text/plain": [
       "<Figure size 432x288 with 1 Axes>"
      ]
     },
     "metadata": {
      "needs_background": "light"
     },
     "output_type": "display_data"
    }
   ],
   "source": [
    "dist_plot = MC_even_dist.plot_distribution()"
   ]
  },
  {
   "cell_type": "code",
   "execution_count": 145,
   "metadata": {},
   "outputs": [],
   "source": [
    "even_tbl = MC_even_dist.summarize_cumulative_return()"
   ]
  },
  {
   "cell_type": "code",
   "execution_count": 146,
   "metadata": {},
   "outputs": [
    {
     "name": "stdout",
     "output_type": "stream",
     "text": [
      "count           500.000000\n",
      "mean              7.927327\n",
      "std               4.963326\n",
      "min               1.028017\n",
      "25%               4.409743\n",
      "50%               6.687093\n",
      "75%               9.885626\n",
      "max              31.935819\n",
      "95% CI Lower      1.979900\n",
      "95% CI Upper     21.570245\n",
      "Name: 7560, dtype: float64\n"
     ]
    }
   ],
   "source": [
    "print(even_tbl)"
   ]
  },
  {
   "cell_type": "code",
   "execution_count": 147,
   "metadata": {},
   "outputs": [],
   "source": [
    "initial_investment = 20000"
   ]
  },
  {
   "cell_type": "code",
   "execution_count": 148,
   "metadata": {},
   "outputs": [],
   "source": [
    "ci_lower = round(even_tbl[8]*initial_investment,2)\n",
    "ci_upper = round(even_tbl[9]*initial_investment,2)"
   ]
  },
  {
   "cell_type": "code",
   "execution_count": 149,
   "metadata": {},
   "outputs": [
    {
     "name": "stdout",
     "output_type": "stream",
     "text": [
      "There is a 95% chance that an initial investment of $20000 in the portfolio over the next 30 years will end within in the range of $39598.0 and $431404.9\n"
     ]
    }
   ],
   "source": [
    "print(f\"There is a 95% chance that an initial investment of ${initial_investment} in the portfolio\"\n",
    "      f\" over the next 30 years will end within in the range of\"\n",
    "      f\" ${ci_lower} and ${ci_upper}\")"
   ]
  },
  {
   "cell_type": "code",
   "execution_count": 150,
   "metadata": {},
   "outputs": [],
   "source": [
    "initial_investment2 = 20000 *1.5"
   ]
  },
  {
   "cell_type": "code",
   "execution_count": 151,
   "metadata": {},
   "outputs": [],
   "source": [
    "ci2_lower = round(even_tbl[8]*initial_investment2,2)\n",
    "ci2_upper = round(even_tbl[9]*initial_investment2,2)"
   ]
  },
  {
   "cell_type": "code",
   "execution_count": 152,
   "metadata": {},
   "outputs": [
    {
     "name": "stdout",
     "output_type": "stream",
     "text": [
      "There is a 95% chance that an initial investment of $30000.0 in the portfolio over the next 30 years will end within in the range of $59397.0 and $647107.35\n"
     ]
    }
   ],
   "source": [
    "print(f\"There is a 95% chance that an initial investment of ${initial_investment2} in the portfolio\"\n",
    "      f\" over the next 30 years will end within in the range of\"\n",
    "      f\" ${ci2_lower} and ${ci2_upper}\")"
   ]
  },
  {
   "cell_type": "code",
   "execution_count": null,
   "metadata": {},
   "outputs": [],
   "source": []
  },
  {
   "cell_type": "code",
   "execution_count": null,
   "metadata": {},
   "outputs": [],
   "source": []
  },
  {
   "cell_type": "code",
   "execution_count": null,
   "metadata": {},
   "outputs": [],
   "source": []
  },
  {
   "cell_type": "code",
   "execution_count": null,
   "metadata": {},
   "outputs": [],
   "source": []
  },
  {
   "cell_type": "code",
   "execution_count": null,
   "metadata": {},
   "outputs": [],
   "source": []
  },
  {
   "cell_type": "code",
   "execution_count": null,
   "metadata": {},
   "outputs": [],
   "source": []
  },
  {
   "cell_type": "code",
   "execution_count": null,
   "metadata": {},
   "outputs": [],
   "source": []
  },
  {
   "cell_type": "code",
   "execution_count": null,
   "metadata": {},
   "outputs": [],
   "source": []
  },
  {
   "cell_type": "code",
   "execution_count": null,
   "metadata": {},
   "outputs": [],
   "source": []
  },
  {
   "cell_type": "code",
   "execution_count": null,
   "metadata": {},
   "outputs": [],
   "source": []
  },
  {
   "cell_type": "code",
   "execution_count": null,
   "metadata": {},
   "outputs": [],
   "source": []
  },
  {
   "cell_type": "code",
   "execution_count": null,
   "metadata": {},
   "outputs": [],
   "source": []
  },
  {
   "cell_type": "code",
   "execution_count": null,
   "metadata": {},
   "outputs": [],
   "source": []
  },
  {
   "cell_type": "code",
   "execution_count": null,
   "metadata": {},
   "outputs": [],
   "source": []
  },
  {
   "cell_type": "code",
   "execution_count": null,
   "metadata": {},
   "outputs": [],
   "source": []
  },
  {
   "cell_type": "code",
   "execution_count": null,
   "metadata": {},
   "outputs": [],
   "source": []
  },
  {
   "cell_type": "code",
   "execution_count": null,
   "metadata": {},
   "outputs": [],
   "source": []
  },
  {
   "cell_type": "code",
   "execution_count": null,
   "metadata": {},
   "outputs": [],
   "source": []
  },
  {
   "cell_type": "code",
   "execution_count": null,
   "metadata": {},
   "outputs": [],
   "source": []
  },
  {
   "cell_type": "code",
   "execution_count": null,
   "metadata": {},
   "outputs": [],
   "source": []
  },
  {
   "cell_type": "code",
   "execution_count": null,
   "metadata": {},
   "outputs": [],
   "source": []
  },
  {
   "cell_type": "code",
   "execution_count": null,
   "metadata": {},
   "outputs": [],
   "source": []
  },
  {
   "cell_type": "code",
   "execution_count": null,
   "metadata": {},
   "outputs": [],
   "source": []
  },
  {
   "cell_type": "code",
   "execution_count": null,
   "metadata": {},
   "outputs": [],
   "source": []
  },
  {
   "cell_type": "code",
   "execution_count": null,
   "metadata": {},
   "outputs": [],
   "source": []
  },
  {
   "cell_type": "code",
   "execution_count": null,
   "metadata": {},
   "outputs": [],
   "source": []
  },
  {
   "cell_type": "code",
   "execution_count": null,
   "metadata": {},
   "outputs": [],
   "source": []
  },
  {
   "cell_type": "code",
   "execution_count": null,
   "metadata": {},
   "outputs": [],
   "source": []
  },
  {
   "cell_type": "code",
   "execution_count": null,
   "metadata": {},
   "outputs": [],
   "source": []
  },
  {
   "cell_type": "code",
   "execution_count": null,
   "metadata": {},
   "outputs": [],
   "source": []
  },
  {
   "cell_type": "code",
   "execution_count": null,
   "metadata": {},
   "outputs": [],
   "source": []
  },
  {
   "cell_type": "code",
   "execution_count": null,
   "metadata": {},
   "outputs": [],
   "source": []
  },
  {
   "cell_type": "code",
   "execution_count": null,
   "metadata": {},
   "outputs": [],
   "source": []
  },
  {
   "cell_type": "code",
   "execution_count": null,
   "metadata": {},
   "outputs": [],
   "source": []
  },
  {
   "cell_type": "code",
   "execution_count": null,
   "metadata": {},
   "outputs": [],
   "source": []
  },
  {
   "cell_type": "code",
   "execution_count": null,
   "metadata": {},
   "outputs": [],
   "source": []
  },
  {
   "cell_type": "code",
   "execution_count": null,
   "metadata": {},
   "outputs": [],
   "source": []
  },
  {
   "cell_type": "code",
   "execution_count": null,
   "metadata": {},
   "outputs": [],
   "source": []
  },
  {
   "cell_type": "code",
   "execution_count": null,
   "metadata": {},
   "outputs": [],
   "source": []
  },
  {
   "cell_type": "code",
   "execution_count": null,
   "metadata": {},
   "outputs": [],
   "source": []
  },
  {
   "cell_type": "code",
   "execution_count": null,
   "metadata": {},
   "outputs": [],
   "source": []
  },
  {
   "cell_type": "code",
   "execution_count": null,
   "metadata": {},
   "outputs": [],
   "source": []
  },
  {
   "cell_type": "code",
   "execution_count": null,
   "metadata": {},
   "outputs": [],
   "source": []
  },
  {
   "cell_type": "code",
   "execution_count": null,
   "metadata": {},
   "outputs": [],
   "source": []
  },
  {
   "cell_type": "code",
   "execution_count": null,
   "metadata": {},
   "outputs": [],
   "source": []
  },
  {
   "cell_type": "code",
   "execution_count": null,
   "metadata": {},
   "outputs": [],
   "source": []
  },
  {
   "cell_type": "code",
   "execution_count": null,
   "metadata": {},
   "outputs": [],
   "source": []
  },
  {
   "cell_type": "code",
   "execution_count": null,
   "metadata": {},
   "outputs": [],
   "source": []
  },
  {
   "cell_type": "code",
   "execution_count": null,
   "metadata": {},
   "outputs": [],
   "source": []
  },
  {
   "cell_type": "code",
   "execution_count": null,
   "metadata": {},
   "outputs": [],
   "source": []
  },
  {
   "cell_type": "code",
   "execution_count": null,
   "metadata": {},
   "outputs": [],
   "source": []
  },
  {
   "cell_type": "code",
   "execution_count": null,
   "metadata": {},
   "outputs": [],
   "source": []
  },
  {
   "cell_type": "code",
   "execution_count": null,
   "metadata": {},
   "outputs": [],
   "source": []
  },
  {
   "cell_type": "code",
   "execution_count": null,
   "metadata": {},
   "outputs": [],
   "source": []
  },
  {
   "cell_type": "code",
   "execution_count": null,
   "metadata": {},
   "outputs": [],
   "source": []
  },
  {
   "cell_type": "code",
   "execution_count": null,
   "metadata": {},
   "outputs": [],
   "source": []
  }
 ],
 "metadata": {
  "kernelspec": {
   "display_name": "Python 3",
   "language": "python",
   "name": "python3"
  },
  "language_info": {
   "codemirror_mode": {
    "name": "ipython",
    "version": 3
   },
   "file_extension": ".py",
   "mimetype": "text/x-python",
   "name": "python",
   "nbconvert_exporter": "python",
   "pygments_lexer": "ipython3",
   "version": "3.8.3"
  }
 },
 "nbformat": 4,
 "nbformat_minor": 4
}
